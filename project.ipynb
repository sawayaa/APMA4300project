{
 "cells": [
  {
   "cell_type": "markdown",
   "metadata": {},
   "source": [
    "Before you turn this problem in, make sure everything runs as expected. First, **restart the kernel** (in the menubar, select Kernel$\\rightarrow$Restart) and then **run all cells** (in the menubar, select Cell$\\rightarrow$Run All).\n",
    "\n",
    "Make sure you fill in any place that says `YOUR CODE HERE` or \"YOUR ANSWER HERE\", as well as any collaborators you worked with:"
   ]
  },
  {
   "cell_type": "code",
   "execution_count": 1,
   "metadata": {},
   "outputs": [],
   "source": [
    "COLLABORATORS = \"\""
   ]
  },
  {
   "cell_type": "markdown",
   "metadata": {},
   "source": [
    "---"
   ]
  },
  {
   "cell_type": "code",
   "execution_count": 2,
   "metadata": {},
   "outputs": [],
   "source": [
    "import numpy\n",
    "import matplotlib.pyplot as plt\n",
    "import pandas as pd"
   ]
  },
  {
   "cell_type": "markdown",
   "metadata": {
    "deletable": false,
    "editable": false,
    "nbgrader": {
     "cell_type": "markdown",
     "checksum": "30151e98e3c996ace5ae4ef3af293633",
     "grade": false,
     "grade_id": "cell-c4123d20c3a14019",
     "locked": true,
     "schema_version": 3,
     "solution": false,
     "task": false
    }
   },
   "source": [
    "# Final Project\n",
    "\n",
    "This notebook will provide a brief structure and rubric for presenting your final project. \n",
    "\n",
    "The purpose of the project is 2-fold\n",
    "* To give you an opportunity to work on a problem you are truly interested in (as this is the best way to actually learn something)\n",
    "* To demonstrate to me that you understand the overall workflow of problem solving from problem selection to implementation to discussion \n",
    "\n",
    "You can choose any subject area that interests you as long as there is a computational component to it.  However, please do not reuse projects or homeworks you have done in other classes.  This should be **your** original work.\n",
    "\n",
    "**You can work in teams, but clearly identify each persons contribution** and every team member should hand in their own copy of the notebook.\n",
    "\n",
    "### Structure\n",
    "There are 5 parts for a total of 100 points that provide the overall structure of a mini research project.\n",
    "\n",
    "* Problem Description\n",
    "* Problem Justification\n",
    "* Description of Computational components needed to address problem\n",
    "* Implementation including tests\n",
    "* Discussion of results and future directions\n",
    "\n",
    "For grading purposes, please try to make this notebook entirely self contained. \n",
    "\n",
    "The project is worth about 2 problem sets and should be of comparable length (please: I will have about 100 of these to read and I am not expecting full 10 page papers).  The actual project does not necessarily have to work but in that case you should demonstrate that you understand why it did not work and what steps you would take next to fix it.\n",
    "\n",
    "Have fun"
   ]
  },
  {
   "cell_type": "markdown",
   "metadata": {
    "deletable": false,
    "editable": false,
    "nbgrader": {
     "cell_type": "markdown",
     "checksum": "01122cd1403d5bc022d7d837e18074f3",
     "grade": false,
     "grade_id": "cell-318b53f4ed873060",
     "locked": true,
     "schema_version": 3,
     "solution": false,
     "task": false
    }
   },
   "source": [
    "## Problem Description [15 pts]\n",
    "\n",
    "In ~4-5 paragraphs, describe the general problem you want to solve and the goals you hope to achieve. You should provide any relevant background, equations you plan to solve and references, particularly if you are reproducing results from a paper.  Please use proper spelling and grammar. "
   ]
  },
  {
   "cell_type": "markdown",
   "metadata": {
    "deletable": false,
    "nbgrader": {
     "cell_type": "markdown",
     "checksum": "c21ef06c7198ef08a5c02c42bbe153dc",
     "grade": true,
     "grade_id": "cell-f3a6a5fa3a14f053",
     "locked": false,
     "points": 15,
     "schema_version": 3,
     "solution": true,
     "task": false
    }
   },
   "source": [
    "In this project, I attempt to replicate a model for migration by Robinson et al.'s paper \"A Machine Learning Approach to Modeling Human Migration\" (2017). In this paper run multiple models to track migration based off of IRS migration datasets on counties and compare errors between them. They cover traditional models such as gravity and radiation models with their own productive functions, a boosting gradient, and an artificial neural network. Alternatively, due to the scope of this project, I will only be focusing on one, which is the deep learning artificial neural network. They used the neural network builder offered by Keras, so I will be applying the same library to help solve this problem.\n",
    "\n",
    "To start, they didn't document their experiments online. The first author, Caleb Robinson, has a library they created to analyze the data, however, there was no documentation of the machine learning models mentioned in the paper, and data to create the experiments was missing. However, they used similar data and methods for another paper titled \"Modeling Migration Patterns in the USA Under Sea Level Rise\" (2020). Since all of their modeling and evaluation methods were built around flooding probabilities and how it affects migration, I shifted my goals and decided to see if I could generate a good enough migration model to predict population per 3106 counties per year. The primary datasets were yearly IRS Migration data from 2004-2014 [link here](https://www.irs.gov/statistics/soi-tax-stats-migration-data). The counties were numerically represented by Federal Information Processing Standards (FIPS) county codes. The raw contents of this data are in /project/county_migration0506.txt (all datasets have the same document with different years). \n",
    "\n",
    "The equations I plan to solve are the errors they used to evaluate their methods, plus a custom loss function for the neural network. One evaluation method was not included (CPCd) since it depended on distance traveled. There was no retrievable distance matrix so this was neglected. They did have one in their 2020 paper, but it was reliant on that paper's data on hurricanes and flooding. Their errors from the 2017 paper includes: \n",
    "\n",
    "**Common part of commuters** (CPC), which compares number of travelers between training and validation data.\n",
    "\n",
    "**Common part of commuters distance variant** ($CPC_d$) neglected.\n",
    "\n",
    "**Root mean squared error** to punish large errors.\n",
    "\n",
    "**Coefficient of determination** $r^2$, goodness of fit.\n",
    "\n",
    "The custom loss function will be elaborated in the computational methods section.\n",
    "\n",
    "I will also keep track of accuracy between epochs (number of passes through the neural network) while training the model, and plot their values with the hope of proving correctness of the soluion.\n",
    "\n",
    "Data processing is provided in /project/4300project/Proccess Migration Data.ipynb.\n",
    "\n",
    "#### Sources\n",
    "\n",
    "Robinson Migration library:\n",
    "\n",
    "[link](https://github.com/calebrob6/migration-lib)\n",
    "\n",
    "Robinson Migration 2020 repository:\n",
    "\n",
    "[link](https://github.com/calebrob6/migration-slr)\n",
    "\n",
    "##### Papers Referenced\n",
    "Robinson, C., &amp; Dilkina, B. (2017). A machine learning approach to modeling human migration. Proceedings of the 1st ACM SIGCAS Conference on Computing and Sustainable Societies. https://doi.org/10.1145/3209811.3209868 \n",
    "\n",
    "Robinson, C., Dilkina, B., &amp; Moreno-Cruz, J. (2020). Modeling migration patterns in the USA under sea level rise. PLOS ONE, 15(1). https://doi.org/10.1371/journal.pone.0227436 "
   ]
  },
  {
   "cell_type": "markdown",
   "metadata": {
    "deletable": false,
    "editable": false,
    "nbgrader": {
     "cell_type": "markdown",
     "checksum": "d17c85f2162d381f18c622eebae5d417",
     "grade": false,
     "grade_id": "cell-767b4865829f6440",
     "locked": true,
     "schema_version": 3,
     "solution": false,
     "task": false
    }
   },
   "source": [
    "## Problem Justification [5 pts] \n",
    "\n",
    "Briefly describe why this problem is important to you,  and, if possible, to anyone else."
   ]
  },
  {
   "cell_type": "markdown",
   "metadata": {
    "deletable": false,
    "nbgrader": {
     "cell_type": "markdown",
     "checksum": "62b5aaf67715beeb4a031ab159be50be",
     "grade": true,
     "grade_id": "cell-030bdb11ff77dc41",
     "locked": false,
     "points": 5,
     "schema_version": 3,
     "solution": true,
     "task": false
    }
   },
   "source": [
    "Human migration is very unpredictable due to unexpected events (weather disasters, earthquake, politics, etc.) Although this is the case, there are countless datasets online that track migration. As a result, some people use this data in order to predict future populations. This is useful due to the fact that policies or school funding can be heavily dependent on population size (Robinson et al. 2017).\n",
    "\n",
    "This is very important to me because I believe that this can help greatly with modeling migration of refugees and displaced people while considering unpredictable events that could have caused their departure from home."
   ]
  },
  {
   "cell_type": "markdown",
   "metadata": {
    "deletable": false,
    "editable": false,
    "nbgrader": {
     "cell_type": "markdown",
     "checksum": "1e5ffe676b0e33aa3adb49c8032b705a",
     "grade": false,
     "grade_id": "cell-a7a4255dfbbc98e4",
     "locked": true,
     "schema_version": 3,
     "solution": false,
     "task": false
    }
   },
   "source": [
    "## Computational  Methods [10 pts]\n",
    "\n",
    "Describe the specific approach you will take to solve some concrete aspect of the general problem. \n",
    "\n",
    "You should  include all the numerical or computational methods you intend to use.  These can include methods or packages  we did not discuss in class but provide some reference to the method. You do not need to explain in detail how the methods work, but you should describe their basic functionality and justify your choices. \n",
    "\n",
    "**If you need to install or import any additional python packages,  please provide complete installation instructions in the code block below**\n",
    "\n"
   ]
  },
  {
   "cell_type": "markdown",
   "metadata": {
    "deletable": false,
    "nbgrader": {
     "cell_type": "markdown",
     "checksum": "36d5c668364853007ee40c22680478d2",
     "grade": true,
     "grade_id": "cell-fe71c0040eae7d5d",
     "locked": false,
     "points": 10,
     "schema_version": 3,
     "solution": true,
     "task": false
    }
   },
   "source": [
    "For the neural network, I will follow the same parameters the authors used to tune their neural network for their 2020 paper. Each neural network has an input layer, a series of hidden layers, and an output layer. Each consist of nodes that are the core of training the network.\n",
    "\n",
    "To train the network, the data is split into population estimates from 2004-2008 for training and 2010-2014 for validation. This split is arbituary given that the authors did not specify how they divided up the data.\n",
    "\n",
    "The input layer will expect 4 inputs (one is left for validation during training), the two hidden layers with have 128 nodes, there are 500 epochs, and a mini-batch size of $2^{14}$. These are parameters included in the authors' 2020 paper.\n",
    "\n",
    "In the 2017 paper, the authors looked at 10-50 epochs and 16-128 layer width with 1-5 layers. Due to the tendency for the network to crash while being recompiled multiple times in a loop, I will stick to the 2020 parameters.\n",
    "\n",
    "The loss function is similar to the $CPC$ error.\n",
    "\n",
    "$$\n",
    "  CPC(T,\\hat{T}) = \\frac{2 \\sum_{i,j=1}^{n} min(T_{ij},\\hat{T}_{ij})}{\\sum_{i,j=1}^{n} T_{ij} + \\sum_{i,j=1}^{n} \\hat{T}_{ij}}\n",
    "$$\n",
    "\n",
    "Here i = origin and j = destination. Due to the fact that we are just having populations, we can ignore the origin and destinations.\n",
    "\n",
    "$T$ will be the predicted population per county vector while $\\hat{T}$ is the ground truth value vector. \n",
    "\n",
    "$n$ is the length of the $T$ vector.\n",
    "\n",
    "The loss function is :\n",
    "\n",
    "$$\n",
    "  L(y,\\hat{y}) = 1 - \\frac{2 \\sum_{i=1}^{n} min(y_{i},\\hat{y}_{i})}{\\sum_{i=1}^{n} y_{i} + \\sum_{i=1}^{n} \\hat{y_i}}\n",
    "$$\n",
    "\n",
    "Here $y_i$ is an element of T.\n",
    "\n",
    "This is the gradient update of the loss function:\n",
    "$$\n",
    "  \\frac{\\partial L(y,\\hat{y})}{\\partial y_i} = \\frac{2 \\sum_{i=1}^{n} min(y_{i},\\hat{y}_{i})}{\\left(\\sum_{i=1}^{n} y_{i} + \\sum_{i=1}^{n} \\hat{y_i}\\right)^2}\n",
    "$$\n",
    "\n",
    "Finally, the root mean squared error (RMSE) and coefficient of determination ($r^2$) are:\n",
    "\n",
    "$$\n",
    "  RMSE(T,\\hat{T}) = \\sqrt{\\frac{1}{n} \\sum_{i=1}^{n}\\left(T_i - \\hat{T_i}\\right)^2}\n",
    "$$\n",
    "\n",
    "$$\n",
    "  r^2(T,\\hat{T}) = 1 - \\frac{\\sum_{i=1}^{n} \\left(T_i - \\hat{T_i}\\right)^2}{\\sum_{i=1}^{n} \\left(T_i - \\bar{T_i}\\right)^2}\n",
    "$$\n",
    "\n",
    "Where $\\bar T$ is the averagae of the prediction vector.\n",
    "\n",
    "In terms of creating a test for the model, I decided to compare cpc value of its prediction and compare it to the paper's values by seeing if it's just as accurate, less, or more accurate.\n",
    "\n",
    "Extra packages and their uses are described in the coding block below."
   ]
  },
  {
   "cell_type": "code",
   "execution_count": 3,
   "metadata": {},
   "outputs": [
    {
     "name": "stdout",
     "output_type": "stream",
     "text": [
      "Requirement already satisfied: tensorflow in /opt/conda/lib/python3.8/site-packages (2.8.0)\n",
      "Requirement already satisfied: tf-estimator-nightly==2.8.0.dev2021122109 in /opt/conda/lib/python3.8/site-packages (from tensorflow) (2.8.0.dev2021122109)\n",
      "Requirement already satisfied: typing-extensions>=3.6.6 in /opt/conda/lib/python3.8/site-packages (from tensorflow) (3.7.4.3)\n",
      "Requirement already satisfied: opt-einsum>=2.3.2 in /opt/conda/lib/python3.8/site-packages (from tensorflow) (3.3.0)\n",
      "Requirement already satisfied: astunparse>=1.6.0 in /opt/conda/lib/python3.8/site-packages (from tensorflow) (1.6.3)\n",
      "Requirement already satisfied: numpy>=1.20 in /opt/conda/lib/python3.8/site-packages (from tensorflow) (1.20.1)\n",
      "Requirement already satisfied: tensorflow-io-gcs-filesystem>=0.23.1 in /opt/conda/lib/python3.8/site-packages (from tensorflow) (0.25.0)\n",
      "Requirement already satisfied: flatbuffers>=1.12 in /opt/conda/lib/python3.8/site-packages (from tensorflow) (2.0)\n",
      "Requirement already satisfied: libclang>=9.0.1 in /opt/conda/lib/python3.8/site-packages (from tensorflow) (14.0.1)\n",
      "Requirement already satisfied: setuptools in /opt/conda/lib/python3.8/site-packages (from tensorflow) (49.6.0.post20210108)\n",
      "Requirement already satisfied: wrapt>=1.11.0 in /opt/conda/lib/python3.8/site-packages (from tensorflow) (1.14.1)\n",
      "Requirement already satisfied: six>=1.12.0 in /opt/conda/lib/python3.8/site-packages (from tensorflow) (1.15.0)\n",
      "Requirement already satisfied: google-pasta>=0.1.1 in /opt/conda/lib/python3.8/site-packages (from tensorflow) (0.2.0)\n",
      "Requirement already satisfied: grpcio<2.0,>=1.24.3 in /opt/conda/lib/python3.8/site-packages (from tensorflow) (1.46.0)\n",
      "Requirement already satisfied: protobuf>=3.9.2 in /opt/conda/lib/python3.8/site-packages (from tensorflow) (3.15.6)\n",
      "Requirement already satisfied: keras-preprocessing>=1.1.1 in /opt/conda/lib/python3.8/site-packages (from tensorflow) (1.1.2)\n",
      "Requirement already satisfied: gast>=0.2.1 in /opt/conda/lib/python3.8/site-packages (from tensorflow) (0.5.3)\n",
      "Requirement already satisfied: h5py>=2.9.0 in /opt/conda/lib/python3.8/site-packages (from tensorflow) (3.1.0)\n",
      "Requirement already satisfied: tensorboard<2.9,>=2.8 in /opt/conda/lib/python3.8/site-packages (from tensorflow) (2.8.0)\n",
      "Requirement already satisfied: keras<2.9,>=2.8.0rc0 in /opt/conda/lib/python3.8/site-packages (from tensorflow) (2.8.0)\n",
      "Requirement already satisfied: absl-py>=0.4.0 in /opt/conda/lib/python3.8/site-packages (from tensorflow) (1.0.0)\n",
      "Requirement already satisfied: termcolor>=1.1.0 in /opt/conda/lib/python3.8/site-packages (from tensorflow) (1.1.0)\n",
      "Requirement already satisfied: wheel<1.0,>=0.23.0 in /opt/conda/lib/python3.8/site-packages (from astunparse>=1.6.0->tensorflow) (0.36.2)\n",
      "Requirement already satisfied: google-auth<3,>=1.6.3 in /opt/conda/lib/python3.8/site-packages (from tensorboard<2.9,>=2.8->tensorflow) (2.6.6)\n",
      "Requirement already satisfied: google-auth-oauthlib<0.5,>=0.4.1 in /opt/conda/lib/python3.8/site-packages (from tensorboard<2.9,>=2.8->tensorflow) (0.4.6)\n",
      "Requirement already satisfied: tensorboard-plugin-wit>=1.6.0 in /opt/conda/lib/python3.8/site-packages (from tensorboard<2.9,>=2.8->tensorflow) (1.8.1)\n",
      "Requirement already satisfied: markdown>=2.6.8 in /opt/conda/lib/python3.8/site-packages (from tensorboard<2.9,>=2.8->tensorflow) (3.3.7)\n",
      "Requirement already satisfied: werkzeug>=0.11.15 in /opt/conda/lib/python3.8/site-packages (from tensorboard<2.9,>=2.8->tensorflow) (2.1.2)\n",
      "Requirement already satisfied: requests<3,>=2.21.0 in /opt/conda/lib/python3.8/site-packages (from tensorboard<2.9,>=2.8->tensorflow) (2.26.0)\n",
      "Requirement already satisfied: tensorboard-data-server<0.7.0,>=0.6.0 in /opt/conda/lib/python3.8/site-packages (from tensorboard<2.9,>=2.8->tensorflow) (0.6.1)\n",
      "Requirement already satisfied: pyasn1-modules>=0.2.1 in /opt/conda/lib/python3.8/site-packages (from google-auth<3,>=1.6.3->tensorboard<2.9,>=2.8->tensorflow) (0.2.8)\n",
      "Requirement already satisfied: rsa<5,>=3.1.4 in /opt/conda/lib/python3.8/site-packages (from google-auth<3,>=1.6.3->tensorboard<2.9,>=2.8->tensorflow) (4.8)\n",
      "Requirement already satisfied: cachetools<6.0,>=2.0.0 in /opt/conda/lib/python3.8/site-packages (from google-auth<3,>=1.6.3->tensorboard<2.9,>=2.8->tensorflow) (5.0.0)\n",
      "Requirement already satisfied: requests-oauthlib>=0.7.0 in /opt/conda/lib/python3.8/site-packages (from google-auth-oauthlib<0.5,>=0.4.1->tensorboard<2.9,>=2.8->tensorflow) (1.3.1)\n",
      "Requirement already satisfied: importlib-metadata>=4.4 in /opt/conda/lib/python3.8/site-packages (from markdown>=2.6.8->tensorboard<2.9,>=2.8->tensorflow) (4.11.3)\n",
      "Requirement already satisfied: zipp>=0.5 in /opt/conda/lib/python3.8/site-packages (from importlib-metadata>=4.4->markdown>=2.6.8->tensorboard<2.9,>=2.8->tensorflow) (3.4.1)\n",
      "Requirement already satisfied: pyasn1<0.5.0,>=0.4.6 in /opt/conda/lib/python3.8/site-packages (from pyasn1-modules>=0.2.1->google-auth<3,>=1.6.3->tensorboard<2.9,>=2.8->tensorflow) (0.4.8)\n",
      "Requirement already satisfied: idna<4,>=2.5 in /opt/conda/lib/python3.8/site-packages (from requests<3,>=2.21.0->tensorboard<2.9,>=2.8->tensorflow) (2.10)\n",
      "Requirement already satisfied: certifi>=2017.4.17 in /opt/conda/lib/python3.8/site-packages (from requests<3,>=2.21.0->tensorboard<2.9,>=2.8->tensorflow) (2020.12.5)\n",
      "Requirement already satisfied: urllib3<1.27,>=1.21.1 in /opt/conda/lib/python3.8/site-packages (from requests<3,>=2.21.0->tensorboard<2.9,>=2.8->tensorflow) (1.26.4)\n",
      "Requirement already satisfied: charset-normalizer~=2.0.0 in /opt/conda/lib/python3.8/site-packages (from requests<3,>=2.21.0->tensorboard<2.9,>=2.8->tensorflow) (2.0.10)\n",
      "Requirement already satisfied: oauthlib>=3.0.0 in /opt/conda/lib/python3.8/site-packages (from requests-oauthlib>=0.7.0->google-auth-oauthlib<0.5,>=0.4.1->tensorboard<2.9,>=2.8->tensorflow) (3.0.1)\n",
      "Requirement already satisfied: keras in /opt/conda/lib/python3.8/site-packages (2.8.0)\n"
     ]
    }
   ],
   "source": [
    "# Provide complete installation or import information for external packages or modules here e.g.\n",
    "\n",
    "#pip install somepackage\n",
    "# from somepackage import blah\n",
    "\n",
    "'''These are packages necessary after data processing for training. The packages required for processing are located\n",
    "in the /project/4300project/data folder. '''\n",
    "\n",
    "#Install tensorflow to install keras\n",
    "!pip install tensorflow\n",
    "!pip install keras\n",
    "\n",
    "#common array, math, and file manipulation packages\n",
    "import pandas as pd\n",
    "import numpy as np\n",
    "import sys, os, time, math, csv\n",
    "\n",
    "#efficient iterations\n",
    "import itertools\n",
    "\n",
    "#plotting\n",
    "import matplotlib\n",
    "import matplotlib.pyplot as plt\n",
    "\n",
    "#numerical methods\n",
    "import scipy.optimize\n",
    "\n",
    "from sklearn.metrics import mean_absolute_error, mean_squared_error, median_absolute_error, r2_score\n",
    "from sklearn.linear_model import LinearRegression\n",
    "from sklearn.svm import LinearSVR\n",
    "from sklearn.model_selection import KFold\n",
    "from sklearn.preprocessing import StandardScaler\n",
    "\n",
    "#tools for lightweight pipelining, i.e.optimize loops\n",
    "import joblib\n",
    "\n",
    "\n",
    "#load txt file\n",
    "from numpy import loadtxt\n",
    "\n",
    "#machine learning package\n",
    "import keras\n",
    "import keras.models\n",
    "import keras.backend as K\n",
    "from tensorflow.keras.optimizers import SGD\n",
    "from tensorflow.keras.optimizers import Adam\n",
    "from keras.models import Model\n",
    "from keras.models import Sequential\n",
    "from keras.layers import Dense, Dropout, AlphaDropout, Input, BatchNormalization, Activation\n",
    "from keras.wrappers.scikit_learn import KerasRegressor\n",
    "from keras.callbacks import EarlyStopping\n",
    "\n",
    "\n",
    "\n",
    "\n"
   ]
  },
  {
   "cell_type": "markdown",
   "metadata": {
    "deletable": false,
    "editable": false,
    "nbgrader": {
     "cell_type": "markdown",
     "checksum": "bf2f4af065255132e3ef761af9f53abc",
     "grade": false,
     "grade_id": "cell-501a9781d3f83013",
     "locked": true,
     "schema_version": 3,
     "solution": false,
     "task": false
    }
   },
   "source": [
    "## Implementation [60 pts]\n",
    "\n",
    "Use the Markdown and Code blocks below to implement and document your methods including figures.  Only the first markdown block will be a grading cell but please add (not copy) cells in this section to organize your work. \n",
    "\n",
    "Please make the description of your problem readable by interlacing clear explanatory text with code (again with proper grammar and spelling). \n",
    "All code should be well described and commented.\n",
    "\n",
    "For at least one routine you code below, you should provide a test block (e.g. that implements `numpy.testing` routines) to validate your code.  \n",
    "\n",
    "An **important** component of any computational paper is to demonstrate to yourself and others that your code is producing correct results."
   ]
  },
  {
   "cell_type": "markdown",
   "metadata": {
    "deletable": false,
    "nbgrader": {
     "cell_type": "markdown",
     "checksum": "11b06e8b1b9fcac0845c1a031f41bc01",
     "grade": true,
     "grade_id": "cell-31f08d5d85bd9afd",
     "locked": false,
     "points": 60,
     "schema_version": 3,
     "solution": true,
     "task": false
    }
   },
   "source": [
    "### Methods\n",
    "\n",
    "The dataset was processed in the notebook indicated in problem description. The authors were able to sort the raw data from the IRS to population estimates per county per year.\n",
    "\n",
    "After loading and splitting the data into training and validation sections, the functions for errors were defined as well as a function to compile the neural network model. This function also includes the layers of the network and their width. Like the authors, the activation function used is a rectified linear unit activation function (ReLU), which is a peicewise linear function used to train the nodes (neurons).\n",
    "\n",
    "I create more errors to compare to the paper's measured errors. After, I create the model, compile it, and fit it to the training data. I save the model and open it to make a prediction. This prediction's $r^2$ value is tested against the paper's value. If my value is higher, the test with pass if it performs better than the paper's value.\n",
    "\n",
    "Next, I want to see the convergence over different epochs and plot those convergences with labels. Finally, I will calculate the relative error, cpc, and rmse of just the final prediction and validation datasets after the model runs through all epochs. "
   ]
  },
  {
   "cell_type": "code",
   "execution_count": 4,
   "metadata": {},
   "outputs": [
    {
     "name": "stdout",
     "output_type": "stream",
     "text": [
      "        FIPs      2004    2005            2012    2013   2014\n"
     ]
    },
    {
     "data": {
      "text/plain": [
       "array([[  1001.,  48366.,  49676., ...,  54927.,  54695.,  54864.],\n",
       "       [  1003., 156266., 162183., ..., 190048., 194736., 199064.],\n",
       "       [  1005.,  28287.,  28027., ...,  27175.,  26947.,  26749.],\n",
       "       ...,\n",
       "       [ 56041.,  19470.,  19494., ...,  20999.,  20960.,  20845.],\n",
       "       [ 56043.,   7960.,   8022., ...,   8421.,   8427.,   8288.],\n",
       "       [ 56045.,   6646.,   6594., ...,   7074.,   7136.,   7142.]])"
      ]
     },
     "execution_count": 4,
     "metadata": {},
     "output_type": "execute_result"
    }
   ],
   "source": [
    "#post processing data section\n",
    "\n",
    "#load processed data\n",
    "dataset = loadtxt('4300project/data/processed/county_population_2004_2014-Copy1.csv', delimiter=',')\n",
    "\n",
    "#column 0 represents FIPS while columns 1-11 the populations of 3601 counties per year (2004-2014)\n",
    "print(\"        FIPs      2004    2005            2012    2013   2014\")\n",
    "dataset"
   ]
  },
  {
   "cell_type": "code",
   "execution_count": 5,
   "metadata": {},
   "outputs": [],
   "source": [
    "#choose training data\n",
    "x_train = dataset[:,1:5] #input\n",
    "y_train = dataset[:,5] #anticipated output\n",
    "\n",
    "#evaluation data used predict\n",
    "x_val = dataset[:,6:10] #input\n",
    "y_val = dataset[:,11] #output to match\n",
    "\n"
   ]
  },
  {
   "cell_type": "code",
   "execution_count": 6,
   "metadata": {},
   "outputs": [],
   "source": [
    "#define functions\n",
    "\n",
    "#neural network loss function\n",
    "def cpc_loss(y_true, y_pred):\n",
    "    return 1.0 - (2.0*K.sum(K.minimum(y_true,y_pred))) / (K.sum(y_true) + K.sum(y_pred))\n",
    "\n",
    "#to track mean squared error (chosen by authors) between epochs\n",
    "def mean_squared_error(y_true, y_pred):\n",
    "    return K.mean(K.square(y_pred - y_true), axis=-1)\n",
    "\n",
    "from keras import backend\n",
    "\n",
    "#to track rmse between epochs, personal choice since it fits well with one of their error evaluations\n",
    "def rmse(y_true, y_pred):\n",
    "    return backend.sqrt(backend.mean(backend.square(y_pred - y_true), axis=-1))\n"
   ]
  },
  {
   "cell_type": "code",
   "execution_count": 7,
   "metadata": {},
   "outputs": [],
   "source": [
    "#neural network builder with compiler\n",
    "def baseline_model():\n",
    "    inputs = Input(shape=(4,))\n",
    "    x = inputs\n",
    "\n",
    "    x = Dense(128, activation=\"relu\")(x)\n",
    "    x = Dense(128, activation=\"relu\")(x)\n",
    "    \n",
    "    outputs = Dense(1, activation=\"relu\")(x)\n",
    "    \n",
    "    model = Model(inputs=[inputs], outputs=[outputs])\n",
    "    optimizer = Adam(lr=0.001)\n",
    "\n",
    "    model.compile(loss=cpc_loss, metrics=[\"mse\", cpc_loss, rmse], optimizer=optimizer)\n",
    "    return model"
   ]
  },
  {
   "cell_type": "code",
   "execution_count": 8,
   "metadata": {},
   "outputs": [],
   "source": [
    "#other errors from computational methods section\n",
    "\n",
    "\n",
    "def cpc(prediction, y_val):\n",
    "    \n",
    "    numerator_array = []\n",
    "    \n",
    "    for i in np.arange(len(prediction)):\n",
    "        \n",
    "        numerator = 2*np.minimum(prediction[i],y_val[i])\n",
    "        numerator_array.append(numerator)\n",
    "        \n",
    "    numerator_sum = np.sum(numerator_array)\n",
    "    denominator = np.sum(prediction) + np.sum(y_val)\n",
    "    \n",
    "    cpc = numerator_sum/denominator\n",
    "    \n",
    "    return cpc\n",
    "\n",
    "\n",
    "def rmse_whole_dataset(prediction, y_val):\n",
    "    \n",
    "    squared_error_array = []\n",
    "    \n",
    "    for i in np.arange(len(prediction)):\n",
    "        \n",
    "        squared_error = (y_val[i]-prediction[i])**2\n",
    "        squared_error_array.append(squared_error)\n",
    "        \n",
    "    s_e = np.sum(squared_error_array)\n",
    "    \n",
    "    rmse = (s_e/len(prediction))**0.5\n",
    "    \n",
    "    return rmse\n",
    "\n",
    "def cod(prediction, y_val):\n",
    "    \n",
    "    #coefficient of determination r^2\n",
    "    \n",
    "    numerator_array = []\n",
    "    denominator_array = []\n",
    "    \n",
    "    y_val_avg = np.mean(y_val)\n",
    "    \n",
    "    for i in np.arange(len(prediction)):\n",
    "        \n",
    "        squared_error = (y_val[i]-prediction[i])**2\n",
    "        \n",
    "        numerator_array.append(squared_error)\n",
    "        \n",
    "        denom_se = (y_val[i]-y_val_avg)**2\n",
    "        \n",
    "        denominator_array.append(denom_se)\n",
    "        \n",
    "    numerator = np.sum(numerator_array)\n",
    "    \n",
    "    denominator = np.sum(denominator_array)\n",
    "    \n",
    "    r_squared = 1-(numerator/denominator)\n",
    "    \n",
    "    return r_squared"
   ]
  },
  {
   "cell_type": "code",
   "execution_count": 9,
   "metadata": {},
   "outputs": [
    {
     "name": "stderr",
     "output_type": "stream",
     "text": [
      "<ipython-input-9-934673263939>:5: DeprecationWarning: KerasRegressor is deprecated, use Sci-Keras (https://github.com/adriangb/scikeras) instead. See https://www.adriangb.com/scikeras/stable/migration.html for help migrating.\n",
      "  model = keras.wrappers.scikit_learn.KerasRegressor(\n",
      "/opt/conda/lib/python3.8/site-packages/keras/optimizer_v2/adam.py:105: UserWarning: The `lr` argument is deprecated, use `learning_rate` instead.\n",
      "  super(Adam, self).__init__(name, **kwargs)\n"
     ]
    }
   ],
   "source": [
    "#to stop training if loss is minimized to the point that it doesn't change\n",
    "early_stopping = EarlyStopping(monitor=\"cpc_loss\", patience=100, restore_best_weights=True)\n",
    "\n",
    "#create model\n",
    "model = keras.wrappers.scikit_learn.KerasRegressor(\n",
    "    build_fn=baseline_model,\n",
    "    epochs=500,\n",
    "    batch_size=2**14,\n",
    "    callbacks=[early_stopping],\n",
    "    verbose=0\n",
    ")\n",
    "\n",
    "#fit model\n",
    "\n",
    "history = model.fit(x_train, y_train)\n",
    "\n",
    "#store model as a retrievable object\n",
    "scaler = StandardScaler()\n",
    "\n",
    "history.model.save(\"output/trainedtest.h5\")\n",
    "joblib.dump(scaler, \"output/another_trainedtest.p\")\n",
    "\n",
    "#retrieve model\n",
    "model_retrieval = keras.models.load_model(\"output/trainedtest.h5\", custom_objects={\"cpc_loss\":\"mse\",\"rmse\":rmse})\n",
    "#make prediction\n",
    "prediction = model_retrieval.predict(x_val, batch_size=2**12,verbose=0)\n",
    "\n",
    "#calculate an error for a test\n",
    "cod_value = cod(prediction,y_val)\n",
    "\n",
    "#using numpy.testing.assert_array_less to see if r^2, goodness of fit, is more or less accurate than the paper's \n",
    "#0 being no matches and 1 being complete match\n",
    "\n",
    "paper_cpc_nn = 0.91\n",
    "numpy.testing.assert_array_less(paper_cpc_nn, cod_value)"
   ]
  },
  {
   "cell_type": "code",
   "execution_count": 10,
   "metadata": {},
   "outputs": [
    {
     "data": {
      "image/png": "[encoded data removed]",
      "text/plain": [
       "<Figure size 576x432 with 1 Axes>"
      ]
     },
     "metadata": {
      "needs_background": "light"
     },
     "output_type": "display_data"
    },
    {
     "data": {
      "image/png": "[encoded data removed]",
      "text/plain": [
       "<Figure size 576x432 with 1 Axes>"
      ]
     },
     "metadata": {
      "needs_background": "light"
     },
     "output_type": "display_data"
    },
    {
     "data": {
      "image/png": "[encoded data removed]",
      "text/plain": [
       "<Figure size 576x432 with 1 Axes>"
      ]
     },
     "metadata": {
      "needs_background": "light"
     },
     "output_type": "display_data"
    },
    {
     "name": "stdout",
     "output_type": "stream",
     "text": [
      "4308094.5\n",
      "607.5650634765625\n"
     ]
    }
   ],
   "source": [
    "#for uniquesness of results, lets see the progression of accuracy between our chosen loss function\n",
    "fig = plt.figure(figsize=(8,6))\n",
    "axes = fig.add_subplot(1,1,1)\n",
    "axes.semilogy(history.history[\"mse\"])\n",
    "axes.set_title(\"Convergence of Mean Squared Error Between Epochs\")\n",
    "axes.set_xlabel(\"Epochs\")\n",
    "axes.set_ylabel(\"MSE\")\n",
    "axes.grid()\n",
    "\n",
    "fig = plt.figure(figsize=(8,6))\n",
    "axes = fig.add_subplot(1,1,1)\n",
    "axes.semilogy(history.history['cpc_loss'])\n",
    "axes.set_title(\"Convergence of CPC Loss Function Between Epochs\")\n",
    "axes.set_xlabel(\"Epochs\")\n",
    "axes.set_ylabel(\"CPC Values\")\n",
    "axes.grid()\n",
    "\n",
    "fig = plt.figure(figsize=(8,6))\n",
    "axes = fig.add_subplot(1,1,1)\n",
    "axes.semilogy(history.history['rmse'])\n",
    "axes.set_title(\"Convergence of Root Mean Squared Error Between Epochs\")\n",
    "axes.set_xlabel(\"Epochs\")\n",
    "axes.set_ylabel(\"RMSE\")\n",
    "axes.grid()\n",
    "\n",
    "plt.show()\n",
    "print(min(history.history[\"mse\"]))\n",
    "print(min(history.history['rmse']))"
   ]
  },
  {
   "cell_type": "code",
   "execution_count": 11,
   "metadata": {},
   "outputs": [
    {
     "data": {
      "text/plain": [
       "array([0.01457665], dtype=float32)"
      ]
     },
     "execution_count": 11,
     "metadata": {},
     "output_type": "execute_result"
    }
   ],
   "source": [
    "#calculate mean relative error between prediction and validation data\n",
    "\n",
    "rel_error_array = []\n",
    "for i in np.arange(len(y_val)):\n",
    "    rel_error = abs(y_val[i]-prediction[i])/y_val[i]\n",
    "    rel_error_array.append(rel_error)\n",
    "\n",
    "np.mean(rel_error_array, axis=0)"
   ]
  },
  {
   "cell_type": "markdown",
   "metadata": {},
   "source": [
    "cpc(prediction,y_val)"
   ]
  },
  {
   "cell_type": "raw",
   "metadata": {},
   "source": [
    "rmse(prediction,y_val)"
   ]
  },
  {
   "cell_type": "markdown",
   "metadata": {
    "deletable": false,
    "editable": false,
    "nbgrader": {
     "cell_type": "markdown",
     "checksum": "1098fcb11a11f591b73e29bc2ce26dbc",
     "grade": false,
     "grade_id": "cell-8139016f051ab235",
     "locked": true,
     "schema_version": 3,
     "solution": false,
     "task": false
    }
   },
   "source": [
    "## Discussion [10 pts]\n",
    "\n",
    "Evaluate the results of your project including \n",
    "* Why should I believe that your numerical results are correct (convergence, test cases etc)?\n",
    "* Did the project work (in your opinion)?\n",
    "* If yes:  what would be the next steps to try\n",
    "* If no:  Explain why your approach did not work and what you would do differently next time\n"
   ]
  },
  {
   "cell_type": "markdown",
   "metadata": {
    "deletable": false,
    "nbgrader": {
     "cell_type": "markdown",
     "checksum": "c9a6bc1bd11c0e30eac1ac25f6ca71bb",
     "grade": true,
     "grade_id": "cell-596162f90cd1e909",
     "locked": false,
     "points": 10,
     "schema_version": 3,
     "solution": true,
     "task": false
    }
   },
   "source": [
    "* Why should I believe that your numerical results are correct (convergence, test cases etc)?\n",
    "\n",
    "The most compelling result is the convergence of the CPC loss function, which is promising since it was the custom loss function that the researchers focused on. Also, $r^2$ of the model was supposedly larger than the paper's (0.91) since it passed the testing cell. The MSE of this model (4.13e6) was very off the paper's mse (911), and so were the RSME values (552.9 vs 35.1).\n",
    "\n",
    "I think the results are correct given how I minimized the scope of the project was to notice migration as population changes in counties over time. The goodness of fit was very high (0.9866) and there was a low relative error (1-0.9866). \n",
    "\n",
    "This being the case, the model's convergence is not stable passed a number of epochs for any of the convergence plots.\n",
    "\n",
    "That being said, these are parameters for the 2020 paper. The paper I am trying to reproduce had at max 50 epochs with a bash size of $2^{14}$. Given that around 50 on those plots, the errors were very high, I was not able to reproduce their work.\n",
    "\n",
    "* Did the project work (in your opinion)?\n",
    "I think with my goal to generate a working neural network the project did work. I am able to make future predictions predictions that are validated with little relative error with the ground truth values.\n",
    "\n",
    "* If yes:  what would be the next steps to try\n",
    "The next steps I would try to lower the errors even further. I would like to stabilize the convergence for a smaller amount of epochs. This could be solved by finding a balance between epoch and bash size, as well as including intervention opportunities, population densities, and mean household income as factors. Additionally, I would plot these results over a map to visualize migration over time. This would save time and computational power.\n",
    "\n",
    "* If no:  Explain why your approach did not work and what you would do differently next time"
   ]
  },
  {
   "cell_type": "code",
   "execution_count": null,
   "metadata": {},
   "outputs": [],
   "source": []
  }
 ],
 "metadata": {
  "kernelspec": {
   "display_name": "Python 3",
   "language": "python",
   "name": "python3"
  },
  "language_info": {
   "codemirror_mode": {
    "name": "ipython",
    "version": 3
   },
   "file_extension": ".py",
   "mimetype": "text/x-python",
   "name": "python",
   "nbconvert_exporter": "python",
   "pygments_lexer": "ipython3",
   "version": "3.8.8"
  },
  "latex_envs": {
   "bibliofile": "biblio.bib",
   "cite_by": "apalike",
   "current_citInitial": 1,
   "eqLabelWithNumbers": true,
   "eqNumInitial": 0
  }
 },
 "nbformat": 4,
 "nbformat_minor": 4
}
